{
 "cells": [
  {
   "cell_type": "markdown",
   "id": "cb523fc1",
   "metadata": {},
   "source": [
    "Упражнение \n",
    "Необходим скрипт для подбора упаковок по размерам товара. Используйте следующие правила:\n",
    "\n",
    "если ширина, длина и высота менее 15 сантиметров, то выведите на экран \"Коробка №1\"\n",
    "если хотя бы один из габаритов больше 15см, но менее 50см, то выводите \"Коробка №2\"\n",
    "если длина товара больше 2 метров, то вывести \"ищите упаковку для лыж\"\n",
    "во всех остальных случаях пишите \"Стандартная коробка №3\""
   ]
  },
  {
   "cell_type": "code",
   "execution_count": 41,
   "id": "65a07608",
   "metadata": {},
   "outputs": [
    {
     "name": "stdout",
     "output_type": "stream",
     "text": [
      " Введите ширину 7\n",
      " Введите длину 78\n",
      " Введите высоту 19\n"
     ]
    }
   ],
   "source": [
    "width = int(input(\" Введите ширину \"));\n",
    "\n",
    "length = int(input(\" Введите длину \")); \n",
    "\n",
    "height = int(input(\" Введите высоту \"));\n"
   ]
  },
  {
   "cell_type": "code",
   "execution_count": 42,
   "id": "98fbb30f",
   "metadata": {},
   "outputs": [
    {
     "name": "stdout",
     "output_type": "stream",
     "text": [
      "Стандартная коробка №3\n"
     ]
    }
   ],
   "source": [
    "if width < 15 and length < 15 and height < 15 :\n",
    "    print (\"Коробка №1\")\n",
    "# если хотя бы один из габаритов больше 15см, но менее 50см, то выводите \"Коробка №2\"\n",
    "elif width > 15 and width < 50 and length > 15 and length < 50 and height > 15 and height < 50 :\n",
    "    print (\"Коробка №2\")\n",
    "\n",
    "elif length > 200 :\n",
    "    print (\"ищите упаковку для лыж\")\n",
    "else: \n",
    "    print (\"Стандартная коробка №3\")"
   ]
  },
  {
   "cell_type": "markdown",
   "id": "1ba64b74",
   "metadata": {},
   "source": [
    "Задание 1\n",
    "\n",
    "Даны 2 переменных, в которых хранятся строки произвольной длины: phrase_1 и phrase_2.\n",
    "Напишите код, который проверяет какая из этих строк длиннее."
   ]
  },
  {
   "cell_type": "code",
   "execution_count": 8,
   "id": "fcd35497",
   "metadata": {},
   "outputs": [],
   "source": [
    "phrase_1 = (\"Колбаса на колесиках\")\n",
    "\n",
    "phrase_2 = (\"Фасции короче на 4 сантиметра\")"
   ]
  },
  {
   "cell_type": "code",
   "execution_count": 9,
   "id": "8dcb30d5",
   "metadata": {},
   "outputs": [
    {
     "name": "stdout",
     "output_type": "stream",
     "text": [
      "Вторая строка больше\n"
     ]
    }
   ],
   "source": [
    "if len (phrase_1) > len (phrase_2):\n",
    "    print (\"Первая строка больше\")\n",
    "\n",
    "elif len (phrase_1) < len (phrase_2):\n",
    "    print (\"Вторая строка больше\")\n",
    "\n",
    "else:\n",
    "    print (\"Строки равны\")"
   ]
  },
  {
   "cell_type": "markdown",
   "id": "293e9653",
   "metadata": {},
   "source": [
    "Задание 2\n",
    "\n",
    "Дана переменная, в которой хранится число (год). Необходимо написать программу, которая выведет, является ли данный год високосным или обычным."
   ]
  },
  {
   "cell_type": "code",
   "execution_count": 59,
   "id": "f0657b54",
   "metadata": {},
   "outputs": [],
   "source": [
    "year = 2028"
   ]
  },
  {
   "cell_type": "code",
   "execution_count": 60,
   "id": "0fd5fc22",
   "metadata": {},
   "outputs": [
    {
     "name": "stdout",
     "output_type": "stream",
     "text": [
      "Високостный год\n"
     ]
    }
   ],
   "source": [
    "if year % 4 == 0 :\n",
    "    print (\"Високостный год\")\n",
    "else:\n",
    "    print (\"Невисокостный год\")"
   ]
  },
  {
   "cell_type": "markdown",
   "id": "1c904c81",
   "metadata": {},
   "source": [
    "Задание 3\n",
    "\n",
    "Необходимо написать программу, которая будет запрашивать у пользователя месяц и дату рождения и выводить соответствующий знак зодиака."
   ]
  },
  {
   "cell_type": "code",
   "execution_count": 1,
   "id": "d0c53253",
   "metadata": {},
   "outputs": [
    {
     "name": "stdout",
     "output_type": "stream",
     "text": [
      " Введите месяц Сентябрь\n",
      " Введите день 23\n"
     ]
    }
   ],
   "source": [
    "month = input(\" Введите месяц \")\n",
    "day = int(input(\" Введите день \"))"
   ]
  },
  {
   "cell_type": "code",
   "execution_count": 2,
   "id": "1524af4f",
   "metadata": {},
   "outputs": [
    {
     "name": "stdout",
     "output_type": "stream",
     "text": [
      "Дева\n"
     ]
    }
   ],
   "source": [
    "if (month == \"Март\" and day >= 21) or (month == \"Апрель\" and day <= 20) :\n",
    "    print(\"Овен\")\n",
    "\n",
    "elif (month == \"Апрель\" and day >= 21) or (month == \"Май\" and day <= 20) :\n",
    "    print(\"Телец\")\n",
    "\n",
    "elif (month == \"Май\" and day >= 21) or (month == \"Июнь\" and day <= 21) :\n",
    "    print(\"Близнецы\")\n",
    "\n",
    "elif (month == \"Июнь\" and day >= 22) or (month == \"Июль\" and day <= 22) :\n",
    "    print(\"Рак\")\n",
    "\n",
    "elif (month == \"Июль\" and day >= 23) or (month == \"Август\" and day <= 22) :\n",
    "    print(\"Лев\")\n",
    "    \n",
    "elif (month == \"Август\" and day >= 23) or (month == \"Сентябрь\" and day <= 23) :\n",
    "    print(\"Дева\")\n",
    "\n",
    "elif (month == \"Сентябрь\" and day >= 24) or (month == \"Октябрь\" and day <= 23) :\n",
    "    print(\"Весы\")\n",
    "    \n",
    "elif (month == \"Октябрь\" and day >= 24) or (month == \"Ноябрь\" and day <= 22) :\n",
    "    print(\"Скорпион\")\n",
    "    \n",
    "elif (month == \"Ноябрь\" and day >= 23) or (month == \"Декабрь\" and day <= 21) :\n",
    "    print(\"Стрелец\")\n",
    "    \n",
    "elif (month == \"Декабрь\" and day >= 22) or (month == \"Январь\" and day <= 20) :\n",
    "    print(\"Козерог\")\n",
    "    \n",
    "elif (month == \"Январь\" and day >= 21) or (month == \"Февраль\" and day <= 18) :\n",
    "    print(\"Водолей\")\n",
    "    \n",
    "elif (month == \"Февраль\" and day >= 19) or (month == \"Март\" and day <= 20) :\n",
    "    print(\"Рыбы\")\n",
    "else:\n",
    "    print(\"Конец программы\")"
   ]
  },
  {
   "cell_type": "markdown",
   "id": "8eccb025",
   "metadata": {},
   "source": [
    "Задание 5 (необязательное)\n",
    "Дана переменная, в которой хранится шестизначное число (номер проездного билета). Напишите программу, которая будет определять, является ли данный билет \"счастливым\". Билет считается счастливым, если сумма первых трех цифр совпадает с суммой последних трех цифр номера."
   ]
  },
  {
   "cell_type": "code",
   "execution_count": 379,
   "id": "31a8bba1",
   "metadata": {
    "scrolled": true
   },
   "outputs": [
    {
     "name": "stdout",
     "output_type": "stream",
     "text": [
      " Введите билет 123456\n"
     ]
    }
   ],
   "source": [
    "number = input(\" Введите билет \")"
   ]
  },
  {
   "cell_type": "code",
   "execution_count": 380,
   "id": "579acfb4",
   "metadata": {},
   "outputs": [
    {
     "data": {
      "text/plain": [
       "'5'"
      ]
     },
     "execution_count": 380,
     "metadata": {},
     "output_type": "execute_result"
    }
   ],
   "source": [
    "per_1[5]"
   ]
  },
  {
   "cell_type": "code",
   "execution_count": 381,
   "id": "44920f2b",
   "metadata": {},
   "outputs": [
    {
     "data": {
      "text/plain": [
       "'6,56665'"
      ]
     },
     "execution_count": 381,
     "metadata": {},
     "output_type": "execute_result"
    }
   ],
   "source": [
    "partper_1.replace(per_1[2] , per_1[2]+\",\" , 1)"
   ]
  },
  {
   "cell_type": "code",
   "execution_count": 382,
   "id": "0c1b8dca",
   "metadata": {},
   "outputs": [
    {
     "data": {
      "text/plain": [
       "('32', '2232')"
      ]
     },
     "execution_count": 382,
     "metadata": {},
     "output_type": "execute_result"
    }
   ],
   "source": [
    "str(part_1) , str(part_2)"
   ]
  },
  {
   "cell_type": "code",
   "execution_count": 314,
   "id": "fa266353",
   "metadata": {},
   "outputs": [],
   "source": [
    "num_1 , num_2 , num_3 = part_1.replace(part_1[0] , part_1[0]+\" \").replace(part_1[1] , part_1[1]+\" \").split(\" \")"
   ]
  },
  {
   "cell_type": "code",
   "execution_count": 315,
   "id": "bffc21fa",
   "metadata": {},
   "outputs": [],
   "source": [
    "num_4 , num_5 , num_6 = part_2.replace(part_2[0] , part_2[0]+\" \").replace(part_2[1] , part_2[1]+\" \").split(\" \")"
   ]
  },
  {
   "cell_type": "code",
   "execution_count": 316,
   "id": "51568f09",
   "metadata": {},
   "outputs": [
    {
     "data": {
      "text/plain": [
       "(1, 2, 3, 4, 5, 6)"
      ]
     },
     "execution_count": 316,
     "metadata": {},
     "output_type": "execute_result"
    }
   ],
   "source": [
    "int(num_1) , int(num_2) , int(num_3) , int(num_4) , int(num_5) , int(num_6)"
   ]
  },
  {
   "cell_type": "code",
   "execution_count": 317,
   "id": "b1e00e7a",
   "metadata": {},
   "outputs": [
    {
     "name": "stdout",
     "output_type": "stream",
     "text": [
      " Повезет в следующий раз \n"
     ]
    }
   ],
   "source": [
    "if (num_1 + num_2 + num_3) == (num_4 + num_5 + num_6):\n",
    "    print(\" Счастливый билет!!! \")\n",
    "else:\n",
    "    print(\" Повезет в следующий раз \")"
   ]
  },
  {
   "cell_type": "code",
   "execution_count": 126,
   "id": "4b33513e",
   "metadata": {},
   "outputs": [
    {
     "data": {
      "text/plain": [
       "'21'"
      ]
     },
     "execution_count": 126,
     "metadata": {},
     "output_type": "execute_result"
    }
   ],
   "source": [
    "num_1 , num_2 , num_3 = "
   ]
  },
  {
   "cell_type": "code",
   "execution_count": 290,
   "id": "699a0626",
   "metadata": {},
   "outputs": [
    {
     "data": {
      "text/plain": [
       "['223']"
      ]
     },
     "execution_count": 290,
     "metadata": {},
     "output_type": "execute_result"
    }
   ],
   "source": [
    "part_1.split(\" \")"
   ]
  },
  {
   "cell_type": "code",
   "execution_count": null,
   "id": "af242bc9",
   "metadata": {},
   "outputs": [],
   "source": []
  }
 ],
 "metadata": {
  "kernelspec": {
   "display_name": "Python 3 (ipykernel)",
   "language": "python",
   "name": "python3"
  },
  "language_info": {
   "codemirror_mode": {
    "name": "ipython",
    "version": 3
   },
   "file_extension": ".py",
   "mimetype": "text/x-python",
   "name": "python",
   "nbconvert_exporter": "python",
   "pygments_lexer": "ipython3",
   "version": "3.10.9"
  }
 },
 "nbformat": 4,
 "nbformat_minor": 5
}
